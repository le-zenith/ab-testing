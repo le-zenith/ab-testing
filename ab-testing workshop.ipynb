{
 "cells": [
  {
   "cell_type": "markdown",
   "id": "ba8bb864-45fb-42ed-a505-5f35ba76b442",
   "metadata": {},
   "source": [
    "# A/B testing workshop\n",
    "\n",
    "Let's make some necessary imports"
   ]
  },
  {
   "cell_type": "code",
   "execution_count": 26,
   "id": "567fef75-d758-4459-8d3b-70f09f07e185",
   "metadata": {},
   "outputs": [],
   "source": [
    "import os\n",
    "import warnings\n",
    "import numpy as np\n",
    "import pandas as pd\n",
    "import matplotlib.pyplot as plt\n",
    "from scipy import stats\n",
    "from scipy.stats import mannwhitneyu, ttest_ind_from_stats\n",
    "warnings.filterwarnings('ignore')"
   ]
  },
  {
   "cell_type": "markdown",
   "id": "9a3494f5-6439-4d78-873d-af48a0eec8e4",
   "metadata": {},
   "source": [
    "## Functions\n",
    "\n",
    "Let's define functions which we will use in our workshop"
   ]
  },
  {
   "cell_type": "code",
   "execution_count": 4,
   "id": "698c102e-c834-49c0-8a99-1755240197b8",
   "metadata": {},
   "outputs": [],
   "source": [
    "def get_bootstrap_samples(X: np.array = None):\n",
    "    \"\"\"\n",
    "    Returns a sample from an input array with replacement\n",
    "    Parameters:\n",
    "    --------------\n",
    "    X: np.array (default = None)\n",
    "        numpy array containing input values\n",
    "    Returns:\n",
    "    --------------\n",
    "    sample_X: np.array\n",
    "        sample from an input array with replacement\n",
    "    Example usage:\n",
    "    ---------------\n",
    "        import numpy as np\n",
    "        X = np.random.normal(10, 10, 100) #100 element size array from normal distribution\n",
    "        X_sample = get_bootstrap_samples(X = X) #bootstrap sample from X\n",
    "    \"\"\"\n",
    "    indices = np.random.randint(0, X.shape[0], size=X.shape[0])\n",
    "    sample_X = X[indices]\n",
    "    return sample_X"
   ]
  },
  {
   "cell_type": "markdown",
   "id": "bdee54f7-bf32-4640-b6ef-5754b2fa3301",
   "metadata": {},
   "source": [
    "This function allows us to compute type I error. Computation is performed by bootstrap methodology"
   ]
  },
  {
   "cell_type": "code",
   "execution_count": 5,
   "id": "6bfe7371-4111-47f5-ad54-311a44e3fc7f",
   "metadata": {},
   "outputs": [],
   "source": [
    "def check_first_type_error(pilot: np.ndarray = None,\n",
    "                           control: np.ndarray = None,\n",
    "                           n_iter: int = 10000,\n",
    "                           alpha: float = 0.05):\n",
    "    \"\"\"\n",
    "    Calcs a first type error on 2 numpy arrays (pilot/prepilot, prepilot/history, etc)\n",
    "    Parameters:\n",
    "    --------------\n",
    "    pilot: np.ndarray (default = None)\n",
    "        numpy ndarray containing values for test group\n",
    "    control: np.ndarray (default = None)\n",
    "        numpy ndarray containing values for control group\n",
    "    n_iter: int (default = 10000)\n",
    "        Number of bootstrap iterations\n",
    "    alpha: float (default = 0.05)\n",
    "        Probability of rejecting the null hypothesis when it is true\n",
    "    ----------------\n",
    "    Returns:\n",
    "    alpha_array: python tuple\n",
    "        Tuple (alpha_empirical_mw, alpha_empirical_tt) calculated values (I type error for MW and TT tests)\n",
    "    \"\"\"\n",
    "    counter_mw = 0\n",
    "    counter_tt = 0\n",
    "\n",
    "    mann_res = list()\n",
    "    ttest_res = list()\n",
    "\n",
    "    for i in range(n_iter):\n",
    "        bs_pilot = get_bootstrap_samples(pilot)\n",
    "        bs_control = get_bootstrap_samples(control)\n",
    "\n",
    "        pval_mw = mannwhitneyu(bs_pilot.reshape(-1, 1),\n",
    "                               bs_control.reshape(-1, 1)).pvalue\n",
    "        mann_res.append(pval_mw)\n",
    "        pval_tt = ttest_ind_from_stats(bs_pilot.mean(), bs_pilot.std(), bs_pilot.shape[0], bs_control.mean(),\n",
    "                                       bs_control.std(), bs_control.shape[0], equal_var=False).pvalue\n",
    "        ttest_res.append(pval_tt)\n",
    "        if pval_mw < alpha:\n",
    "            counter_mw += 1\n",
    "        if pval_tt < alpha:\n",
    "            counter_tt += 1\n",
    "    alpha_empirical_mw = counter_mw / n_iter\n",
    "    alpha_empirical_tt = counter_tt / n_iter\n",
    "    alpha_array = (alpha_empirical_mw, alpha_empirical_tt)\n",
    "\n",
    "    return alpha_array"
   ]
  },
  {
   "cell_type": "markdown",
   "id": "1f817de3-2c08-4772-a647-9bfdd012ca03",
   "metadata": {},
   "source": [
    "This function allows to compute type II error for different effects.\n",
    "We can add effect by random normal noise (more preferred) and just multiply values on effect (works fine for data with not-normal distribution)"
   ]
  },
  {
   "cell_type": "code",
   "execution_count": 6,
   "id": "791ebe6c-622b-4605-a44b-89528b905a4f",
   "metadata": {},
   "outputs": [],
   "source": [
    "def check_second_type_error(pilot: np.ndarray=None,\n",
    "                            control: np.ndarray=None,\n",
    "                            n_iter=10000,\n",
    "                            beta=0.05,\n",
    "                            effects=[0.01, 0.03, 0.05, 0.1],\n",
    "                            effect_type: str = 'noise'):\n",
    "    \"\"\"\n",
    "    Calcs a first type error on 2 numpy arrays (pilot/prepilot, prepilot/history, etc)\n",
    "    Parameters:\n",
    "    ----------------\n",
    "    pilot: np.ndarray (default = None)\n",
    "        numpy ndarray containing values for test group\n",
    "    control: np.ndarray (default = None)\n",
    "        numpy ndarray containing values for control group\n",
    "    n_iter: int (default = 10000)\n",
    "        Number of bootstrap iterations\n",
    "    beta: float (default = 0.05)\n",
    "        Probability of rejecting the alternative hypothesis when it is true\n",
    "    effects: python list (default = [0.001, 0.005, 0.01, 0.05, 0.1, 0.2])\n",
    "        Possible values for an effect size (we calc II type error for several possible effect sizes)\n",
    "    --------------------\n",
    "    Returns:\n",
    "    beta_array: python tuple\n",
    "        Tuple (effects, alpha_empirical_mw, alpha_empirical_tt) calculated values (II type errors list for MW and TT tests)\n",
    "    \"\"\"\n",
    "    mw_errors = []\n",
    "    tt_errors = []\n",
    "    for effect in effects:\n",
    "        ttest_res = []\n",
    "        mann_res = []\n",
    "\n",
    "        for i in range(n_iter):\n",
    "            bs_pilot = get_bootstrap_samples(pilot)\n",
    "            bs_control = get_bootstrap_samples(control)\n",
    "            if effect_type == 'noise':\n",
    "                mean_pilot = np.mean(bs_pilot)\n",
    "                std_pilot = np.std(bs_pilot)\n",
    "                noise = np.random.normal(\n",
    "                    mean_pilot*effect, std_pilot / 10, size=len(bs_pilot))\n",
    "\n",
    "                bs_pilot = bs_pilot + noise\n",
    "            elif effect_type == 'multiply':\n",
    "                bs_pilot = (1 + effect) * bs_pilot\n",
    "            ttest = stats.ttest_ind(bs_pilot, bs_control, equal_var=False)\n",
    "            mann = stats.mannwhitneyu(bs_pilot, bs_control)\n",
    "\n",
    "            ttest_res.append(ttest[1])\n",
    "            mann_res.append(mann[1])\n",
    "\n",
    "        beta_empirical_tt = (np.array(ttest_res) > beta).mean()\n",
    "        beta_empirical_mw = (np.array(mann_res) > beta).mean()\n",
    "        mw_errors.append(beta_empirical_mw)\n",
    "        tt_errors.append(beta_empirical_tt)\n",
    "\n",
    "    result_tuple = (effects, mw_errors, tt_errors)\n",
    "    return result_tuple"
   ]
  },
  {
   "cell_type": "code",
   "execution_count": 7,
   "id": "f13add0c-b96b-4e1a-998d-f313b6d180b1",
   "metadata": {},
   "outputs": [],
   "source": [
    "def cuped(\n",
    "    treated: pd.Series,\n",
    "    covariate: pd.Series\n",
    "    ) -> pd.Series:\n",
    "    \"\"\"CUPED (Controlled-experiment Using Pre-Experiment Data).\n",
    "\n",
    "    Parameters\n",
    "    ----------\n",
    "    treated: pd.Series\n",
    "        sample which we need to linearize\n",
    "    covariate: pd.Series\n",
    "        covariate which used for linearization\n",
    "\n",
    "    Returns\n",
    "    -------\n",
    "    pd.Series\n",
    "        linearized sample\n",
    "    \"\"\"\n",
    "    if (treated.isna().sum() != 0) or (covariate.isna().sum() != 0):\n",
    "        raise ValueError(\"Samples contain NaN\")\n",
    "    theta = np.cov(treated, covariate)[0][1] / np.var(covariate)\n",
    "    return treated - theta * (covariate - np.mean(covariate))"
   ]
  },
  {
   "cell_type": "code",
   "execution_count": 8,
   "id": "822edac5-efba-49bb-8f25-0c39c4a2c4ee",
   "metadata": {},
   "outputs": [],
   "source": [
    "WORKDIR = './Documents/data/'"
   ]
  },
  {
   "cell_type": "markdown",
   "id": "dab5f897-6a8d-4981-b373-f513feccfadf",
   "metadata": {},
   "source": [
    "### Some data preprocessing"
   ]
  },
  {
   "cell_type": "code",
   "execution_count": 32,
   "id": "1b8f3626-16a9-4295-adee-66937769c791",
   "metadata": {},
   "outputs": [
    {
     "data": {
      "text/html": [
       "<div>\n",
       "<style scoped>\n",
       "    .dataframe tbody tr th:only-of-type {\n",
       "        vertical-align: middle;\n",
       "    }\n",
       "\n",
       "    .dataframe tbody tr th {\n",
       "        vertical-align: top;\n",
       "    }\n",
       "\n",
       "    .dataframe thead th {\n",
       "        text-align: right;\n",
       "    }\n",
       "</style>\n",
       "<table border=\"1\" class=\"dataframe\">\n",
       "  <thead>\n",
       "    <tr style=\"text-align: right;\">\n",
       "      <th></th>\n",
       "      <th>chq_id</th>\n",
       "      <th>plant</th>\n",
       "      <th>chq_date</th>\n",
       "      <th>chq_position</th>\n",
       "      <th>client_id</th>\n",
       "      <th>material</th>\n",
       "      <th>sales_count</th>\n",
       "      <th>sales_sum</th>\n",
       "      <th>is_promo</th>\n",
       "    </tr>\n",
       "  </thead>\n",
       "  <tbody>\n",
       "    <tr>\n",
       "      <th>0</th>\n",
       "      <td>ce5b3d1c531348c5d0d8e859b6d0cf91</td>\n",
       "      <td>7cd86ecb09aa48c6e620b340f6a74592</td>\n",
       "      <td>2016-11-01</td>\n",
       "      <td>004</td>\n",
       "      <td>90fca68123e692a005a4edeadd94b2f2</td>\n",
       "      <td>232cfe8b28970434f685b737737b26d4</td>\n",
       "      <td>2.0</td>\n",
       "      <td>146.98</td>\n",
       "      <td>0</td>\n",
       "    </tr>\n",
       "    <tr>\n",
       "      <th>1</th>\n",
       "      <td>ce5b3d1c531348c5d0d8e859b6d0cf91</td>\n",
       "      <td>7cd86ecb09aa48c6e620b340f6a74592</td>\n",
       "      <td>2016-11-01</td>\n",
       "      <td>003</td>\n",
       "      <td>90fca68123e692a005a4edeadd94b2f2</td>\n",
       "      <td>12ec64451b8e426db16f3f05ea770901</td>\n",
       "      <td>1.0</td>\n",
       "      <td>249.99</td>\n",
       "      <td>1</td>\n",
       "    </tr>\n",
       "    <tr>\n",
       "      <th>2</th>\n",
       "      <td>ce5b3d1c531348c5d0d8e859b6d0cf91</td>\n",
       "      <td>7cd86ecb09aa48c6e620b340f6a74592</td>\n",
       "      <td>2016-11-01</td>\n",
       "      <td>012</td>\n",
       "      <td>90fca68123e692a005a4edeadd94b2f2</td>\n",
       "      <td>1212ff8ecf53aebef093ca8ae216db68</td>\n",
       "      <td>1.0</td>\n",
       "      <td>47.99</td>\n",
       "      <td>1</td>\n",
       "    </tr>\n",
       "    <tr>\n",
       "      <th>3</th>\n",
       "      <td>ce5b3d1c531348c5d0d8e859b6d0cf91</td>\n",
       "      <td>7cd86ecb09aa48c6e620b340f6a74592</td>\n",
       "      <td>2016-11-01</td>\n",
       "      <td>013</td>\n",
       "      <td>90fca68123e692a005a4edeadd94b2f2</td>\n",
       "      <td>1212ff8ecf53aebef093ca8ae216db68</td>\n",
       "      <td>1.0</td>\n",
       "      <td>47.99</td>\n",
       "      <td>1</td>\n",
       "    </tr>\n",
       "    <tr>\n",
       "      <th>4</th>\n",
       "      <td>ce5b3d1c531348c5d0d8e859b6d0cf91</td>\n",
       "      <td>7cd86ecb09aa48c6e620b340f6a74592</td>\n",
       "      <td>2016-11-01</td>\n",
       "      <td>011</td>\n",
       "      <td>90fca68123e692a005a4edeadd94b2f2</td>\n",
       "      <td>571c6d3b559db8445e05265649eb30ab</td>\n",
       "      <td>2.0</td>\n",
       "      <td>53.98</td>\n",
       "      <td>1</td>\n",
       "    </tr>\n",
       "  </tbody>\n",
       "</table>\n",
       "</div>"
      ],
      "text/plain": [
       "                             chq_id                             plant  \\\n",
       "0  ce5b3d1c531348c5d0d8e859b6d0cf91  7cd86ecb09aa48c6e620b340f6a74592   \n",
       "1  ce5b3d1c531348c5d0d8e859b6d0cf91  7cd86ecb09aa48c6e620b340f6a74592   \n",
       "2  ce5b3d1c531348c5d0d8e859b6d0cf91  7cd86ecb09aa48c6e620b340f6a74592   \n",
       "3  ce5b3d1c531348c5d0d8e859b6d0cf91  7cd86ecb09aa48c6e620b340f6a74592   \n",
       "4  ce5b3d1c531348c5d0d8e859b6d0cf91  7cd86ecb09aa48c6e620b340f6a74592   \n",
       "\n",
       "    chq_date chq_position                         client_id  \\\n",
       "0 2016-11-01          004  90fca68123e692a005a4edeadd94b2f2   \n",
       "1 2016-11-01          003  90fca68123e692a005a4edeadd94b2f2   \n",
       "2 2016-11-01          012  90fca68123e692a005a4edeadd94b2f2   \n",
       "3 2016-11-01          013  90fca68123e692a005a4edeadd94b2f2   \n",
       "4 2016-11-01          011  90fca68123e692a005a4edeadd94b2f2   \n",
       "\n",
       "                           material  sales_count  sales_sum  is_promo  \n",
       "0  232cfe8b28970434f685b737737b26d4          2.0     146.98         0  \n",
       "1  12ec64451b8e426db16f3f05ea770901          1.0     249.99         1  \n",
       "2  1212ff8ecf53aebef093ca8ae216db68          1.0      47.99         1  \n",
       "3  1212ff8ecf53aebef093ca8ae216db68          1.0      47.99         1  \n",
       "4  571c6d3b559db8445e05265649eb30ab          2.0      53.98         1  "
      ]
     },
     "execution_count": 32,
     "metadata": {},
     "output_type": "execute_result"
    }
   ],
   "source": [
    "transactions.head()"
   ]
  },
  {
   "cell_type": "code",
   "execution_count": 10,
   "id": "ed5456e3-4f65-4d9b-86e7-770ba1e95c48",
   "metadata": {},
   "outputs": [],
   "source": [
    "transactions = pd.read_parquet(os.path.join(WORKDIR, 'transactions.parquet'))\n",
    "prepilot = transactions[(transactions['chq_date'] >= '2016-10-05') &\n",
    "                        (transactions['chq_date'] < '2017-01-05')]\n",
    "pilot = transactions[(transactions['chq_date'] >= '2017-01-05') &\n",
    "                     (transactions['chq_date'] < '2017-04-05')]\n",
    "prepilot = prepilot.groupby('chq_id').agg({'sales_sum': np.sum, 'client_id': 'first'}).reset_index()\n",
    "pilot = pilot.groupby('chq_id').agg({'sales_sum': np.sum, 'client_id': 'first'}).reset_index()\n",
    "prepilot = prepilot.groupby('client_id').agg({'sales_sum': np.mean})\n",
    "pilot = pilot.groupby('client_id').agg({'sales_sum': np.mean})\n",
    "experiment = (pd.merge(prepilot, \n",
    "                       pilot, \n",
    "                       how='right', \n",
    "                       left_index=True, \n",
    "                       right_index=True, \n",
    "                       suffixes=('_prepilot', '_pilot'))\n",
    "              .fillna(0))"
   ]
  },
  {
   "cell_type": "code",
   "execution_count": 11,
   "id": "7e6e71f2-c14b-4781-976b-b3d4b17b9275",
   "metadata": {},
   "outputs": [],
   "source": [
    "test_group = experiment.sample(frac=0.5, random_state=42)\n",
    "control_group = experiment[~experiment.index.isin(test_group.index)]"
   ]
  },
  {
   "cell_type": "code",
   "execution_count": 33,
   "id": "53ebd381-962c-4910-a435-c0188586ef78",
   "metadata": {},
   "outputs": [
    {
     "data": {
      "text/html": [
       "<div>\n",
       "<style scoped>\n",
       "    .dataframe tbody tr th:only-of-type {\n",
       "        vertical-align: middle;\n",
       "    }\n",
       "\n",
       "    .dataframe tbody tr th {\n",
       "        vertical-align: top;\n",
       "    }\n",
       "\n",
       "    .dataframe thead th {\n",
       "        text-align: right;\n",
       "    }\n",
       "</style>\n",
       "<table border=\"1\" class=\"dataframe\">\n",
       "  <thead>\n",
       "    <tr style=\"text-align: right;\">\n",
       "      <th></th>\n",
       "      <th>sales_sum_prepilot</th>\n",
       "      <th>sales_sum_pilot</th>\n",
       "      <th>sales_sum_pilot_cuped</th>\n",
       "      <th>bucket</th>\n",
       "    </tr>\n",
       "    <tr>\n",
       "      <th>client_id</th>\n",
       "      <th></th>\n",
       "      <th></th>\n",
       "      <th></th>\n",
       "      <th></th>\n",
       "    </tr>\n",
       "  </thead>\n",
       "  <tbody>\n",
       "    <tr>\n",
       "      <th>b5a4d8ae72ddb42ae77123fb10fb53d9</th>\n",
       "      <td>2124.500000</td>\n",
       "      <td>4528.000000</td>\n",
       "      <td>3968.687828</td>\n",
       "      <td>1771</td>\n",
       "    </tr>\n",
       "    <tr>\n",
       "      <th>30caff3de10c0b7f3aa5752b821757a4</th>\n",
       "      <td>1574.857143</td>\n",
       "      <td>1679.000000</td>\n",
       "      <td>1534.733255</td>\n",
       "      <td>3931</td>\n",
       "    </tr>\n",
       "    <tr>\n",
       "      <th>5dfb562dc917a716deecf092455bba7b</th>\n",
       "      <td>365.000000</td>\n",
       "      <td>762.500000</td>\n",
       "      <td>1531.818627</td>\n",
       "      <td>3698</td>\n",
       "    </tr>\n",
       "    <tr>\n",
       "      <th>87ca1d59bfe5f4a8631a68d628059baa</th>\n",
       "      <td>433.000000</td>\n",
       "      <td>766.500000</td>\n",
       "      <td>1484.470576</td>\n",
       "      <td>4289</td>\n",
       "    </tr>\n",
       "    <tr>\n",
       "      <th>369dfbefb048f438b3dd87dee2f6a3ab</th>\n",
       "      <td>2645.437500</td>\n",
       "      <td>2996.882353</td>\n",
       "      <td>2044.200698</td>\n",
       "      <td>4873</td>\n",
       "    </tr>\n",
       "  </tbody>\n",
       "</table>\n",
       "</div>"
      ],
      "text/plain": [
       "                                  sales_sum_prepilot  sales_sum_pilot  \\\n",
       "client_id                                                               \n",
       "b5a4d8ae72ddb42ae77123fb10fb53d9         2124.500000      4528.000000   \n",
       "30caff3de10c0b7f3aa5752b821757a4         1574.857143      1679.000000   \n",
       "5dfb562dc917a716deecf092455bba7b          365.000000       762.500000   \n",
       "87ca1d59bfe5f4a8631a68d628059baa          433.000000       766.500000   \n",
       "369dfbefb048f438b3dd87dee2f6a3ab         2645.437500      2996.882353   \n",
       "\n",
       "                                  sales_sum_pilot_cuped  bucket  \n",
       "client_id                                                        \n",
       "b5a4d8ae72ddb42ae77123fb10fb53d9            3968.687828    1771  \n",
       "30caff3de10c0b7f3aa5752b821757a4            1534.733255    3931  \n",
       "5dfb562dc917a716deecf092455bba7b            1531.818627    3698  \n",
       "87ca1d59bfe5f4a8631a68d628059baa            1484.470576    4289  \n",
       "369dfbefb048f438b3dd87dee2f6a3ab            2044.200698    4873  "
      ]
     },
     "execution_count": 33,
     "metadata": {},
     "output_type": "execute_result"
    }
   ],
   "source": [
    "test_group.head()"
   ]
  },
  {
   "cell_type": "code",
   "execution_count": 12,
   "id": "3bf13b5d-cc36-4a7e-a4be-6d5b094ed406",
   "metadata": {},
   "outputs": [
    {
     "name": "stdout",
     "output_type": "stream",
     "text": [
      "Type I error for T-test: 4.6%\n",
      "Type I error for U-test: 11.0%\n"
     ]
    }
   ],
   "source": [
    "alpha_array = check_first_type_error(pilot=test_group['sales_sum_prepilot'].values,\n",
    "                                     control=control_group['sales_sum_prepilot'].values, \n",
    "                                     n_iter=1000)\n",
    "print(f'Type I error for T-test: {alpha_array[1]*100}%')\n",
    "print(f'Type I error for U-test: {alpha_array[0]*100}%')"
   ]
  },
  {
   "cell_type": "code",
   "execution_count": 13,
   "id": "604513c2-82a0-4148-a27f-34a0f51ce684",
   "metadata": {},
   "outputs": [],
   "source": [
    "beta_array_noise = check_second_type_error(pilot=test_group['sales_sum_prepilot'].values,\n",
    "                                           control=control_group['sales_sum_prepilot'].values, \n",
    "                                           n_iter=1000, \n",
    "                                           effect_type='noise')"
   ]
  },
  {
   "cell_type": "code",
   "execution_count": 14,
   "id": "d1453800-61a1-47cf-b9d8-51d1ac924052",
   "metadata": {},
   "outputs": [
    {
     "data": {
      "text/html": [
       "<div>\n",
       "<style scoped>\n",
       "    .dataframe tbody tr th:only-of-type {\n",
       "        vertical-align: middle;\n",
       "    }\n",
       "\n",
       "    .dataframe tbody tr th {\n",
       "        vertical-align: top;\n",
       "    }\n",
       "\n",
       "    .dataframe thead th {\n",
       "        text-align: right;\n",
       "    }\n",
       "</style>\n",
       "<table border=\"1\" class=\"dataframe\">\n",
       "  <thead>\n",
       "    <tr style=\"text-align: right;\">\n",
       "      <th></th>\n",
       "      <th>0.01</th>\n",
       "      <th>0.03</th>\n",
       "      <th>0.05</th>\n",
       "      <th>0.10</th>\n",
       "    </tr>\n",
       "  </thead>\n",
       "  <tbody>\n",
       "    <tr>\n",
       "      <th>t-test</th>\n",
       "      <td>0.089</td>\n",
       "      <td>0.000</td>\n",
       "      <td>0.0</td>\n",
       "      <td>0.0</td>\n",
       "    </tr>\n",
       "    <tr>\n",
       "      <th>mann-whitney</th>\n",
       "      <td>0.611</td>\n",
       "      <td>0.001</td>\n",
       "      <td>0.0</td>\n",
       "      <td>0.0</td>\n",
       "    </tr>\n",
       "  </tbody>\n",
       "</table>\n",
       "</div>"
      ],
      "text/plain": [
       "               0.01   0.03  0.05  0.10\n",
       "t-test        0.089  0.000   0.0   0.0\n",
       "mann-whitney  0.611  0.001   0.0   0.0"
      ]
     },
     "execution_count": 14,
     "metadata": {},
     "output_type": "execute_result"
    }
   ],
   "source": [
    "report = pd.DataFrame(beta_array_noise[1:], columns=beta_array_noise[0], index=['t-test', 'mann-whitney'])\n",
    "report"
   ]
  },
  {
   "cell_type": "code",
   "execution_count": 15,
   "id": "c9eea1ba-6f37-42ac-8eec-469fbd30252b",
   "metadata": {},
   "outputs": [],
   "source": [
    "beta_array_multiply = check_second_type_error(pilot=test_group['sales_sum_prepilot'].values,\n",
    "                                              control=control_group['sales_sum_prepilot'].values, \n",
    "                                              n_iter=1000, \n",
    "                                              effect_type='multiply')"
   ]
  },
  {
   "cell_type": "code",
   "execution_count": 16,
   "id": "0596de6f-267c-456a-9376-0104f7e8f1fa",
   "metadata": {},
   "outputs": [
    {
     "data": {
      "text/html": [
       "<div>\n",
       "<style scoped>\n",
       "    .dataframe tbody tr th:only-of-type {\n",
       "        vertical-align: middle;\n",
       "    }\n",
       "\n",
       "    .dataframe tbody tr th {\n",
       "        vertical-align: top;\n",
       "    }\n",
       "\n",
       "    .dataframe thead th {\n",
       "        text-align: right;\n",
       "    }\n",
       "</style>\n",
       "<table border=\"1\" class=\"dataframe\">\n",
       "  <thead>\n",
       "    <tr style=\"text-align: right;\">\n",
       "      <th></th>\n",
       "      <th>0.01</th>\n",
       "      <th>0.03</th>\n",
       "      <th>0.05</th>\n",
       "      <th>0.10</th>\n",
       "    </tr>\n",
       "  </thead>\n",
       "  <tbody>\n",
       "    <tr>\n",
       "      <th>t-test</th>\n",
       "      <td>0.316</td>\n",
       "      <td>0.0</td>\n",
       "      <td>0.0</td>\n",
       "      <td>0.0</td>\n",
       "    </tr>\n",
       "    <tr>\n",
       "      <th>mann-whitney</th>\n",
       "      <td>0.616</td>\n",
       "      <td>0.0</td>\n",
       "      <td>0.0</td>\n",
       "      <td>0.0</td>\n",
       "    </tr>\n",
       "  </tbody>\n",
       "</table>\n",
       "</div>"
      ],
      "text/plain": [
       "               0.01  0.03  0.05  0.10\n",
       "t-test        0.316   0.0   0.0   0.0\n",
       "mann-whitney  0.616   0.0   0.0   0.0"
      ]
     },
     "execution_count": 16,
     "metadata": {},
     "output_type": "execute_result"
    }
   ],
   "source": [
    "report = pd.DataFrame(beta_array_multiply[1:], columns=beta_array_multiply[0], index=['t-test', 'mann-whitney'])\n",
    "report"
   ]
  },
  {
   "cell_type": "code",
   "execution_count": 17,
   "id": "ac4c3a7f-2931-45f3-b65a-ea726c0d3ec0",
   "metadata": {},
   "outputs": [],
   "source": [
    "test_group['sales_sum_pilot_cuped'] = cuped(treated=test_group['sales_sum_pilot'], \n",
    "                                            covariate=test_group['sales_sum_prepilot'])\n",
    "control_group['sales_sum_pilot_cuped'] = cuped(treated=control_group['sales_sum_pilot'], \n",
    "                                               covariate=control_group['sales_sum_prepilot'])"
   ]
  },
  {
   "cell_type": "code",
   "execution_count": 18,
   "id": "c24a7339-9d8f-4e3a-9929-f06b110ab4eb",
   "metadata": {},
   "outputs": [],
   "source": [
    "N_BUCKETS = 5000\n",
    "test_group['bucket'] = np.random.randint(0, N_BUCKETS, size=test_group.shape[0])\n",
    "bucket_data = test_group.groupby('bucket').agg({'sales_sum_pilot': np.mean})"
   ]
  },
  {
   "cell_type": "code",
   "execution_count": 20,
   "id": "2b0648d7-99a6-4716-9691-ec3528b76beb",
   "metadata": {},
   "outputs": [
    {
     "name": "stdout",
     "output_type": "stream",
     "text": [
      "Variance before: 2132784.00\n",
      "Variance after CUPED: 1324605.05\n",
      "Variance after buckets: 276999.38\n",
      "Variance was reduced by buckets on 87.0%\n",
      "Variance was reduced by CUPED on 37.9%\n"
     ]
    }
   ],
   "source": [
    "var_before = test_group['sales_sum_pilot'].var()\n",
    "var_after_cuped = test_group['sales_sum_pilot_cuped'].var()\n",
    "var_bucket = bucket_data['sales_sum_pilot'].var()\n",
    "\n",
    "diff_cuped = 1 - var_after_cuped / var_before\n",
    "diff_buckets = 1 - var_bucket / var_before\n",
    "print('Variance before: {:.2f}'.format(var_before))\n",
    "print('Variance after CUPED: {:.2f}'.format(var_after_cuped))\n",
    "print('Variance after buckets: {:.2f}'.format(var_bucket))\n",
    "print('Variance was reduced by buckets on {:.1f}%'.format(diff_buckets*100))\n",
    "print('Variance was reduced by CUPED on {:.1f}%'.format(diff_cuped*100))"
   ]
  },
  {
   "cell_type": "code",
   "execution_count": 22,
   "id": "7c1632fb-cb76-468b-9299-f09343b1e9c8",
   "metadata": {},
   "outputs": [
    {
     "name": "stdout",
     "output_type": "stream",
     "text": [
      "P-value: 0.88\n"
     ]
    }
   ],
   "source": [
    "pval_tt = ttest_ind_from_stats(test_group['sales_sum_pilot_cuped'].mean(), \n",
    "                               test_group['sales_sum_pilot_cuped'].std(), \n",
    "                               test_group.shape[0], \n",
    "                               control_group['sales_sum_pilot_cuped'].mean(),\n",
    "                               control_group['sales_sum_pilot_cuped'].std(), \n",
    "                               control_group.shape[0], \n",
    "                               equal_var=False).pvalue\n",
    "print('P-value: {:.2f}'.format(pval_tt))"
   ]
  },
  {
   "cell_type": "code",
   "execution_count": 28,
   "id": "e02868b0-e875-4394-b205-58c284ec3b26",
   "metadata": {},
   "outputs": [],
   "source": [
    "def calc_bootstrap_effect(pilot: np.ndarray,\n",
    "                          control: np.ndarray,\n",
    "                          n_iter: int = 1000,\n",
    "                          alpha: float = 0.05):\n",
    "    effects_array = []\n",
    "    for _ in range(n_iter):\n",
    "        bs_pilot = get_bootstrap_samples(pilot)\n",
    "        bs_control = get_bootstrap_samples(control)\n",
    "        effect = np.mean(bs_pilot) / np.mean(bs_control) - 1.0\n",
    "        effects_array.append(effect)\n",
    "    return effects_array"
   ]
  },
  {
   "cell_type": "code",
   "execution_count": 29,
   "id": "3bacd6f0-fab9-4c87-bbb2-81f2d9452f62",
   "metadata": {},
   "outputs": [],
   "source": [
    "effects = calc_bootstrap_effect(test_group['sales_sum_pilot'], control_group['sales_sum_pilot'])"
   ]
  },
  {
   "cell_type": "code",
   "execution_count": 31,
   "id": "81f6184c-9ed3-4a82-bfea-4c1dcbf6fdb7",
   "metadata": {},
   "outputs": [
    {
     "data": {
      "image/png": "[encoded data removed]",
      "text/plain": [
       "<Figure size 576x576 with 1 Axes>"
      ]
     },
     "metadata": {
      "needs_background": "light"
     },
     "output_type": "display_data"
    }
   ],
   "source": [
    "plt.figure(figsize=(8, 8))\n",
    "plt.hist(effects, bins=20);"
   ]
  },
  {
   "cell_type": "code",
   "execution_count": null,
   "id": "fcb2ff9a-bb01-4cc9-91ff-0a64cd227722",
   "metadata": {},
   "outputs": [],
   "source": []
  }
 ],
 "metadata": {
  "kernelspec": {
   "display_name": "Python 3",
   "language": "python",
   "name": "python3"
  },
  "language_info": {
   "codemirror_mode": {
    "name": "ipython",
    "version": 3
   },
   "file_extension": ".py",
   "mimetype": "text/x-python",
   "name": "python",
   "nbconvert_exporter": "python",
   "pygments_lexer": "ipython3",
   "version": "3.8.8"
  }
 },
 "nbformat": 4,
 "nbformat_minor": 5
}
